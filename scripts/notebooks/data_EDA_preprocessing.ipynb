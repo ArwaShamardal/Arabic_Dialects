{
 "cells": [
  {
   "cell_type": "markdown",
   "metadata": {},
   "source": [
    "# EDA"
   ]
  },
  {
   "cell_type": "code",
   "execution_count": 2,
   "metadata": {},
   "outputs": [],
   "source": [
    "import pandas as pd\n",
    "import numpy as np\n",
    "import matplotlib.pyplot as plt"
   ]
  },
  {
   "cell_type": "code",
   "execution_count": 3,
   "metadata": {},
   "outputs": [
    {
     "name": "stdout",
     "output_type": "stream",
     "text": [
      "(147725, 3)\n"
     ]
    },
    {
     "data": {
      "text/html": [
       "<div>\n",
       "<style scoped>\n",
       "    .dataframe tbody tr th:only-of-type {\n",
       "        vertical-align: middle;\n",
       "    }\n",
       "\n",
       "    .dataframe tbody tr th {\n",
       "        vertical-align: top;\n",
       "    }\n",
       "\n",
       "    .dataframe thead th {\n",
       "        text-align: right;\n",
       "    }\n",
       "</style>\n",
       "<table border=\"1\" class=\"dataframe\">\n",
       "  <thead>\n",
       "    <tr style=\"text-align: right;\">\n",
       "      <th></th>\n",
       "      <th>id</th>\n",
       "      <th>text</th>\n",
       "      <th>dialect</th>\n",
       "    </tr>\n",
       "  </thead>\n",
       "  <tbody>\n",
       "    <tr>\n",
       "      <th>0</th>\n",
       "      <td>1009754958479151232</td>\n",
       "      <td>@toha_Altomy @gy_yah قليلين ادب ومنافقين. لو ا...</td>\n",
       "      <td>LY</td>\n",
       "    </tr>\n",
       "    <tr>\n",
       "      <th>1</th>\n",
       "      <td>1009794751548313600</td>\n",
       "      <td>@AlmFaisal 😂😂 الليبيين متقلبين!!!\\nبس بالنسبة ...</td>\n",
       "      <td>LY</td>\n",
       "    </tr>\n",
       "    <tr>\n",
       "      <th>2</th>\n",
       "      <td>1019989115490787200</td>\n",
       "      <td>@smsm071990 @ALMOGRBE كل 20 تانيه شاب ليبي بير...</td>\n",
       "      <td>LY</td>\n",
       "    </tr>\n",
       "    <tr>\n",
       "      <th>3</th>\n",
       "      <td>1035479791758135168</td>\n",
       "      <td>@AboryPro @lyranoo85 رانيا عقليتك متخلفة. اولا...</td>\n",
       "      <td>LY</td>\n",
       "    </tr>\n",
       "    <tr>\n",
       "      <th>4</th>\n",
       "      <td>1035481122921164800</td>\n",
       "      <td>@lyranoo85 شكلك متعقدة علشان الراجل لي تحبيه ا...</td>\n",
       "      <td>LY</td>\n",
       "    </tr>\n",
       "  </tbody>\n",
       "</table>\n",
       "</div>"
      ],
      "text/plain": [
       "                    id                                               text  \\\n",
       "0  1009754958479151232  @toha_Altomy @gy_yah قليلين ادب ومنافقين. لو ا...   \n",
       "1  1009794751548313600  @AlmFaisal 😂😂 الليبيين متقلبين!!!\\nبس بالنسبة ...   \n",
       "2  1019989115490787200  @smsm071990 @ALMOGRBE كل 20 تانيه شاب ليبي بير...   \n",
       "3  1035479791758135168  @AboryPro @lyranoo85 رانيا عقليتك متخلفة. اولا...   \n",
       "4  1035481122921164800  @lyranoo85 شكلك متعقدة علشان الراجل لي تحبيه ا...   \n",
       "\n",
       "  dialect  \n",
       "0      LY  \n",
       "1      LY  \n",
       "2      LY  \n",
       "3      LY  \n",
       "4      LY  "
      ]
     },
     "execution_count": 3,
     "metadata": {},
     "output_type": "execute_result"
    }
   ],
   "source": [
    "df = pd.read_csv('../../data/dialects_data.csv')\n",
    "print(df.shape)\n",
    "df.head()"
   ]
  },
  {
   "cell_type": "code",
   "execution_count": 4,
   "metadata": {},
   "outputs": [],
   "source": [
    "df_copy = df.copy()"
   ]
  },
  {
   "cell_type": "code",
   "execution_count": 5,
   "metadata": {},
   "outputs": [
    {
     "data": {
      "text/plain": [
       "id         0\n",
       "text       0\n",
       "dialect    0\n",
       "dtype: int64"
      ]
     },
     "execution_count": 5,
     "metadata": {},
     "output_type": "execute_result"
    }
   ],
   "source": [
    "df_copy.isnull().sum()"
   ]
  },
  {
   "cell_type": "code",
   "execution_count": 6,
   "metadata": {},
   "outputs": [
    {
     "data": {
      "text/plain": [
       "<Axes: xlabel='dialect'>"
      ]
     },
     "execution_count": 6,
     "metadata": {},
     "output_type": "execute_result"
    },
    {
     "data": {
      "image/png": "[encoded data removed]",
      "text/plain": [
       "<Figure size 640x480 with 1 Axes>"
      ]
     },
     "metadata": {},
     "output_type": "display_data"
    }
   ],
   "source": [
    "df_copy['dialect'].value_counts().plot(kind='bar')\n",
    "# Conclusion: The dataset is imbalanced towards the dialect 'EG', which means that the accuracy of the model will be biased,\n",
    "# hence the metric to be used should be F1 score."
   ]
  },
  {
   "cell_type": "code",
   "execution_count": 7,
   "metadata": {},
   "outputs": [
    {
     "data": {
      "text/plain": [
       "2771"
      ]
     },
     "execution_count": 7,
     "metadata": {},
     "output_type": "execute_result"
    }
   ],
   "source": [
    "arabic_digits = '٠١٢٣٤٥٦٧٨٩'\n",
    "df_copy['text'].apply(lambda x: any([char in arabic_digits for char in x])).sum()\n",
    "# numbers/digits are useless in this context, of identifying the dialect of the text, so they should be removed."
   ]
  },
  {
   "cell_type": "code",
   "execution_count": 8,
   "metadata": {},
   "outputs": [
    {
     "data": {
      "text/plain": [
       "20535"
      ]
     },
     "execution_count": 8,
     "metadata": {},
     "output_type": "execute_result"
    }
   ],
   "source": [
    "arabic_punctuations = '؛،؟,”“'\n",
    "df_copy['text'].apply(lambda x: any([char in arabic_punctuations for char in x])).sum()\n",
    "# punctuations are also useless in this context.\n"
   ]
  },
  {
   "cell_type": "code",
   "execution_count": 9,
   "metadata": {},
   "outputs": [
    {
     "name": "stdout",
     "output_type": "stream",
     "text": [
      "0123456789٠١٢٣٤٥٦٧٨٩\n",
      "!\"#$%&'()*+,-./:;<=>?@[\\]^_`{|}~؛،؟,”“\n"
     ]
    }
   ],
   "source": [
    "import string\n",
    "\n",
    "print(string.digits + arabic_digits)\n",
    "print(string.punctuation + arabic_punctuations)\n",
    "\n"
   ]
  },
  {
   "cell_type": "code",
   "execution_count": 10,
   "metadata": {},
   "outputs": [],
   "source": [
    "import string\n",
    "import re\n",
    "\n",
    "\n",
    "class Preprocess():\n",
    "    def __init__(self, df):\n",
    "        self.df = df\n",
    "\n",
    "    def __remove_newline(self, text):\n",
    "        return text.replace('\\n', ' ')\n",
    "    \n",
    "    def __remove_punctuation(self, text):\n",
    "        arabic_punctuations = '؛،؟”“'\n",
    "        all_punctuations = string.punctuation + arabic_punctuations\n",
    "        return text.translate(str.maketrans('', '', all_punctuations))\n",
    "    \n",
    "    def __remove_digits(self, text):\n",
    "        arabic_digits = '٠١٢٣٤٥٦٧٨٩'\n",
    "        all_digits = string.digits + arabic_digits\n",
    "        return text.translate(str.maketrans('', '', all_digits))\n",
    "    \n",
    "    def __remove_mentions(self, text):\n",
    "        return ' '.join([word for word in text.split() if not word.startswith('@')])\n",
    "    \n",
    "    def __remove_links(self, text):\n",
    "        return ' '.join([word for word in text.split() if not word.startswith('http')])\n",
    "    \n",
    "    def __remove_emojis(self, text):\n",
    "        emoji_pattern = re.compile(\"[\"\n",
    "                                   u\"\\U0001F600-\\U0001F64F\"\n",
    "                                   u\"\\U0001F300-\\U0001F5FF\"\n",
    "                                   u\"\\U0001F680-\\U0001F6FF\"\n",
    "                                   u\"\\U0001F1E0-\\U0001F1FF\"\n",
    "                                   u\"\\U00002500-\\U00002BEF\"\n",
    "                                   u\"\\U00002702-\\U000027B0\"\n",
    "                                   u\"\\U00002702-\\U000027B0\"\n",
    "                                   u\"\\U000024C2-\\U0001F251\"\n",
    "                                   u\"\\U0001f926-\\U0001f937\"\n",
    "                                   u\"\\U00010000-\\U0010ffff\"\n",
    "                                   u\"\\u2640-\\u2642\"\n",
    "                                   u\"\\u2600-\\u2B55\"\n",
    "                                   u\"\\u200d\"\n",
    "                                   u\"\\u23cf\"\n",
    "                                   u\"\\u23e9\"\n",
    "                                   u\"\\u231a\"\n",
    "                                   u\"\\ufe0f\"\n",
    "                                   u\"\\u3030\"\n",
    "                                   \"]+\", flags=re.UNICODE)\n",
    "        return emoji_pattern.sub(r'', text)\n",
    "\n",
    "\n",
    "    def __remove_english(self, text):\n",
    "        english_alphabets = 'abcdefghijklmnopqrstuvwxyzABCDEFGHIJKLMNOPQRSTUVWXYZ'\n",
    "        return ' '.join([word for word in text.split() if not any(char in english_alphabets for char in word)])\n",
    "    \n",
    "    def preprocess(self):\n",
    "        self.df['text'] = self.df['text'].apply(self.__remove_newline)\n",
    "        self.df['text'] = self.df['text'].apply(self.__remove_mentions)\n",
    "        self.df['text'] = self.df['text'].apply(self.__remove_links)\n",
    "        self.df['text'] = self.df['text'].apply(self.__remove_emojis)\n",
    "        self.df['text'] = self.df['text'].apply(self.__remove_punctuation)\n",
    "        self.df['text'] = self.df['text'].apply(self.__remove_digits)\n",
    "        self.df['text'] = self.df['text'].apply(self.__remove_english)\n",
    "        return self.df\n",
    "\n"
   ]
  },
  {
   "cell_type": "code",
   "execution_count": 11,
   "metadata": {},
   "outputs": [
    {
     "data": {
      "text/plain": [
       "'hello'"
      ]
     },
     "execution_count": 11,
     "metadata": {},
     "output_type": "execute_result"
    }
   ],
   "source": [
    "def remove_mentions(text):\n",
    "    return ' '.join([word for word in text.split() if not word.startswith('@')])\n",
    "\n",
    "remove_mentions('@ahmed hello @mohamed')"
   ]
  },
  {
   "cell_type": "code",
   "execution_count": 12,
   "metadata": {},
   "outputs": [
    {
     "data": {
      "text/html": [
       "<div>\n",
       "<style scoped>\n",
       "    .dataframe tbody tr th:only-of-type {\n",
       "        vertical-align: middle;\n",
       "    }\n",
       "\n",
       "    .dataframe tbody tr th {\n",
       "        vertical-align: top;\n",
       "    }\n",
       "\n",
       "    .dataframe thead th {\n",
       "        text-align: right;\n",
       "    }\n",
       "</style>\n",
       "<table border=\"1\" class=\"dataframe\">\n",
       "  <thead>\n",
       "    <tr style=\"text-align: right;\">\n",
       "      <th></th>\n",
       "      <th>id</th>\n",
       "      <th>text</th>\n",
       "      <th>dialect</th>\n",
       "    </tr>\n",
       "  </thead>\n",
       "  <tbody>\n",
       "    <tr>\n",
       "      <th>0</th>\n",
       "      <td>1009754958479151232</td>\n",
       "      <td>@toha_Altomy @gy_yah قليلين ادب ومنافقين. لو ا...</td>\n",
       "      <td>LY</td>\n",
       "    </tr>\n",
       "    <tr>\n",
       "      <th>1</th>\n",
       "      <td>1009794751548313600</td>\n",
       "      <td>@AlmFaisal 😂😂 الليبيين متقلبين!!!\\nبس بالنسبة ...</td>\n",
       "      <td>LY</td>\n",
       "    </tr>\n",
       "    <tr>\n",
       "      <th>2</th>\n",
       "      <td>1019989115490787200</td>\n",
       "      <td>@smsm071990 @ALMOGRBE كل 20 تانيه شاب ليبي بير...</td>\n",
       "      <td>LY</td>\n",
       "    </tr>\n",
       "    <tr>\n",
       "      <th>3</th>\n",
       "      <td>1035479791758135168</td>\n",
       "      <td>@AboryPro @lyranoo85 رانيا عقليتك متخلفة. اولا...</td>\n",
       "      <td>LY</td>\n",
       "    </tr>\n",
       "    <tr>\n",
       "      <th>4</th>\n",
       "      <td>1035481122921164800</td>\n",
       "      <td>@lyranoo85 شكلك متعقدة علشان الراجل لي تحبيه ا...</td>\n",
       "      <td>LY</td>\n",
       "    </tr>\n",
       "  </tbody>\n",
       "</table>\n",
       "</div>"
      ],
      "text/plain": [
       "                    id                                               text  \\\n",
       "0  1009754958479151232  @toha_Altomy @gy_yah قليلين ادب ومنافقين. لو ا...   \n",
       "1  1009794751548313600  @AlmFaisal 😂😂 الليبيين متقلبين!!!\\nبس بالنسبة ...   \n",
       "2  1019989115490787200  @smsm071990 @ALMOGRBE كل 20 تانيه شاب ليبي بير...   \n",
       "3  1035479791758135168  @AboryPro @lyranoo85 رانيا عقليتك متخلفة. اولا...   \n",
       "4  1035481122921164800  @lyranoo85 شكلك متعقدة علشان الراجل لي تحبيه ا...   \n",
       "\n",
       "  dialect  \n",
       "0      LY  \n",
       "1      LY  \n",
       "2      LY  \n",
       "3      LY  \n",
       "4      LY  "
      ]
     },
     "execution_count": 12,
     "metadata": {},
     "output_type": "execute_result"
    }
   ],
   "source": [
    "df_copy.head()"
   ]
  },
  {
   "cell_type": "code",
   "execution_count": 13,
   "metadata": {},
   "outputs": [
    {
     "name": "stdout",
     "output_type": "stream",
     "text": [
      "@AlmFaisal 😂😂 الليبيين متقلبين!!!\n",
      "بس بالنسبة ليا انا ميليشياوي زمان وتوة\n"
     ]
    }
   ],
   "source": [
    "print(df_copy['text'][1])"
   ]
  },
  {
   "cell_type": "code",
   "execution_count": 14,
   "metadata": {},
   "outputs": [
    {
     "data": {
      "text/html": [
       "<div>\n",
       "<style scoped>\n",
       "    .dataframe tbody tr th:only-of-type {\n",
       "        vertical-align: middle;\n",
       "    }\n",
       "\n",
       "    .dataframe tbody tr th {\n",
       "        vertical-align: top;\n",
       "    }\n",
       "\n",
       "    .dataframe thead th {\n",
       "        text-align: right;\n",
       "    }\n",
       "</style>\n",
       "<table border=\"1\" class=\"dataframe\">\n",
       "  <thead>\n",
       "    <tr style=\"text-align: right;\">\n",
       "      <th></th>\n",
       "      <th>id</th>\n",
       "      <th>text</th>\n",
       "      <th>dialect</th>\n",
       "    </tr>\n",
       "  </thead>\n",
       "  <tbody>\n",
       "    <tr>\n",
       "      <th>0</th>\n",
       "      <td>1009754958479151232</td>\n",
       "      <td>قليلين ادب ومنافقين لو اختهم او قريبتهم تتعاكس...</td>\n",
       "      <td>LY</td>\n",
       "    </tr>\n",
       "    <tr>\n",
       "      <th>1</th>\n",
       "      <td>1009794751548313600</td>\n",
       "      <td>الليبيين متقلبين بس بالنسبة ليا انا ميليشياوي ...</td>\n",
       "      <td>LY</td>\n",
       "    </tr>\n",
       "    <tr>\n",
       "      <th>2</th>\n",
       "      <td>1019989115490787200</td>\n",
       "      <td>كل تانيه شاب ليبي بيرتاح لبنت مختلفة ويلاحظ ان...</td>\n",
       "      <td>LY</td>\n",
       "    </tr>\n",
       "    <tr>\n",
       "      <th>3</th>\n",
       "      <td>1035479791758135168</td>\n",
       "      <td>رانيا عقليتك متخلفة اولا الانسان يلي يحتاج اهل...</td>\n",
       "      <td>LY</td>\n",
       "    </tr>\n",
       "    <tr>\n",
       "      <th>4</th>\n",
       "      <td>1035481122921164800</td>\n",
       "      <td>شكلك متعقدة علشان الراجل لي تحبيه ازوج بنت يتي...</td>\n",
       "      <td>LY</td>\n",
       "    </tr>\n",
       "  </tbody>\n",
       "</table>\n",
       "</div>"
      ],
      "text/plain": [
       "                    id                                               text  \\\n",
       "0  1009754958479151232  قليلين ادب ومنافقين لو اختهم او قريبتهم تتعاكس...   \n",
       "1  1009794751548313600  الليبيين متقلبين بس بالنسبة ليا انا ميليشياوي ...   \n",
       "2  1019989115490787200  كل تانيه شاب ليبي بيرتاح لبنت مختلفة ويلاحظ ان...   \n",
       "3  1035479791758135168  رانيا عقليتك متخلفة اولا الانسان يلي يحتاج اهل...   \n",
       "4  1035481122921164800  شكلك متعقدة علشان الراجل لي تحبيه ازوج بنت يتي...   \n",
       "\n",
       "  dialect  \n",
       "0      LY  \n",
       "1      LY  \n",
       "2      LY  \n",
       "3      LY  \n",
       "4      LY  "
      ]
     },
     "execution_count": 14,
     "metadata": {},
     "output_type": "execute_result"
    }
   ],
   "source": [
    "df_preprocessed = Preprocess(df_copy)\n",
    "df_preprocessed = df_preprocessed.preprocess()\n",
    "df_preprocessed.head()"
   ]
  },
  {
   "cell_type": "code",
   "execution_count": 15,
   "metadata": {},
   "outputs": [
    {
     "data": {
      "text/plain": [
       "(array([4.9000e+01, 1.4600e+02, 0.0000e+00, 2.1400e+02, 5.5700e+02,\n",
       "        0.0000e+00, 1.4027e+04, 1.3206e+04, 0.0000e+00, 1.2094e+04,\n",
       "        1.0684e+04, 0.0000e+00, 9.7520e+03, 8.3630e+03, 0.0000e+00,\n",
       "        7.4760e+03, 6.5630e+03, 0.0000e+00, 6.0080e+03, 0.0000e+00,\n",
       "        5.2150e+03, 4.7480e+03, 0.0000e+00, 4.1570e+03, 3.8210e+03,\n",
       "        0.0000e+00, 3.4660e+03, 3.2740e+03, 0.0000e+00, 3.0190e+03,\n",
       "        2.8830e+03, 0.0000e+00, 2.7340e+03, 2.4580e+03, 0.0000e+00,\n",
       "        2.2810e+03, 2.0080e+03, 0.0000e+00, 1.7010e+03, 0.0000e+00,\n",
       "        1.5040e+03, 1.2140e+03, 0.0000e+00, 9.8500e+02, 8.9200e+02,\n",
       "        0.0000e+00, 7.8800e+02, 7.1800e+02, 0.0000e+00, 6.5500e+02,\n",
       "        6.1200e+02, 0.0000e+00, 5.4700e+02, 5.4800e+02, 0.0000e+00,\n",
       "        5.4300e+02, 5.2200e+02, 0.0000e+00, 5.0600e+02, 0.0000e+00,\n",
       "        4.9400e+02, 4.5500e+02, 0.0000e+00, 4.3000e+02, 4.0900e+02,\n",
       "        0.0000e+00, 4.5500e+02, 4.5500e+02, 0.0000e+00, 4.3700e+02,\n",
       "        4.4100e+02, 0.0000e+00, 4.8600e+02, 4.4000e+02, 0.0000e+00,\n",
       "        4.6600e+02, 4.3000e+02, 0.0000e+00, 3.5300e+02, 0.0000e+00,\n",
       "        3.2900e+02, 2.4100e+02, 0.0000e+00, 1.7200e+02, 1.1900e+02,\n",
       "        0.0000e+00, 6.4000e+01, 5.0000e+01, 0.0000e+00, 3.0000e+01,\n",
       "        1.5000e+01, 0.0000e+00, 9.0000e+00, 2.0000e+00, 0.0000e+00,\n",
       "        3.0000e+00, 0.0000e+00, 0.0000e+00, 0.0000e+00, 2.0000e+00]),\n",
       " array([ 0.  ,  0.65,  1.3 ,  1.95,  2.6 ,  3.25,  3.9 ,  4.55,  5.2 ,\n",
       "         5.85,  6.5 ,  7.15,  7.8 ,  8.45,  9.1 ,  9.75, 10.4 , 11.05,\n",
       "        11.7 , 12.35, 13.  , 13.65, 14.3 , 14.95, 15.6 , 16.25, 16.9 ,\n",
       "        17.55, 18.2 , 18.85, 19.5 , 20.15, 20.8 , 21.45, 22.1 , 22.75,\n",
       "        23.4 , 24.05, 24.7 , 25.35, 26.  , 26.65, 27.3 , 27.95, 28.6 ,\n",
       "        29.25, 29.9 , 30.55, 31.2 , 31.85, 32.5 , 33.15, 33.8 , 34.45,\n",
       "        35.1 , 35.75, 36.4 , 37.05, 37.7 , 38.35, 39.  , 39.65, 40.3 ,\n",
       "        40.95, 41.6 , 42.25, 42.9 , 43.55, 44.2 , 44.85, 45.5 , 46.15,\n",
       "        46.8 , 47.45, 48.1 , 48.75, 49.4 , 50.05, 50.7 , 51.35, 52.  ,\n",
       "        52.65, 53.3 , 53.95, 54.6 , 55.25, 55.9 , 56.55, 57.2 , 57.85,\n",
       "        58.5 , 59.15, 59.8 , 60.45, 61.1 , 61.75, 62.4 , 63.05, 63.7 ,\n",
       "        64.35, 65.  ]),\n",
       " <BarContainer object of 100 artists>)"
      ]
     },
     "execution_count": 15,
     "metadata": {},
     "output_type": "execute_result"
    },
    {
     "data": {
      "image/png": "[encoded data removed]",
      "text/plain": [
       "<Figure size 640x480 with 1 Axes>"
      ]
     },
     "metadata": {},
     "output_type": "display_data"
    }
   ],
   "source": [
    "lengths = [len(text.split()) for text in df_preprocessed['text']]\n",
    "plt.hist(lengths, bins=100)"
   ]
  },
  {
   "cell_type": "code",
   "execution_count": 16,
   "metadata": {},
   "outputs": [
    {
     "name": "stdout",
     "output_type": "stream",
     "text": [
      "90th percentile text length: 27.0\n",
      "Chosen max_sequence_length: 27\n"
     ]
    }
   ],
   "source": [
    "# Determine the 90th percentile of text lengths\n",
    "max_sequence_length = np.percentile(lengths, 90)\n",
    "print(f\"90th percentile text length: {max_sequence_length}\")\n",
    "max_sequence_length = int(np.ceil(max_sequence_length))\n",
    "print(f\"Chosen max_sequence_length: {max_sequence_length}\")"
   ]
  },
  {
   "cell_type": "code",
   "execution_count": 17,
   "metadata": {},
   "outputs": [
    {
     "name": "stdout",
     "output_type": "stream",
     "text": [
      "Class Weights: {0: 0.5126136442501215, 1: 1.0698120722743238, 2: 0.8094742321707444, 3: 2.5604471791316405, 4: 2.046903145351254}\n"
     ]
    }
   ],
   "source": [
    "from sklearn.utils.class_weight import compute_class_weight\n",
    "\n",
    "class_weights = compute_class_weight(class_weight='balanced', classes=np.unique(df_preprocessed['dialect']), y=df_preprocessed['dialect'])\n",
    "class_weights_dict = dict(enumerate(class_weights))\n",
    "\n",
    "print(\"Class Weights:\", class_weights_dict)\n"
   ]
  },
  {
   "cell_type": "code",
   "execution_count": null,
   "metadata": {},
   "outputs": [],
   "source": []
  }
 ],
 "metadata": {
  "kernelspec": {
   "display_name": "Python 3",
   "language": "python",
   "name": "python3"
  },
  "language_info": {
   "codemirror_mode": {
    "name": "ipython",
    "version": 3
   },
   "file_extension": ".py",
   "mimetype": "text/x-python",
   "name": "python",
   "nbconvert_exporter": "python",
   "pygments_lexer": "ipython3",
   "version": "3.10.5"
  }
 },
 "nbformat": 4,
 "nbformat_minor": 2
}
